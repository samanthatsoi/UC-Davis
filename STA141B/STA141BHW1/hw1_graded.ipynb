{
 "cells": [
  {
   "cell_type": "markdown",
   "metadata": {},
   "source": [
    "# STA 141B: Homework 1\n",
    "Winter 2018"
   ]
  },
  {
   "cell_type": "markdown",
   "metadata": {},
   "source": [
    "## Information\n",
    "\n",
    "After the colons (in the same line) please write just your first name, last name, and the 9 digit student ID number below.\n",
    "\n",
    "First Name: Sam\n",
    "\n",
    "Last Name: Tsoi\n",
    "\n",
    "Student ID: 913032178\n"
   ]
  },
  {
   "cell_type": "markdown",
   "metadata": {},
   "source": [
    "## Instructions\n",
    "\n",
    "We use a script that extracts your answers by looking for cells in between the cells containing the exercise statements.  So you \n",
    "\n",
    "- MUST add cells in between the exercise statements and add answers within them and\n",
    "- MUST NOT modify the existing cells, particularly not the problem statement\n",
    "\n",
    "To make markdown, please switch the cell type to markdown (from code) - you can hit 'm' when you are in command mode - and use the markdown language.  For a brief tutorial see: https://daringfireball.net/projects/markdown/syntax\n"
   ]
  },
  {
   "cell_type": "markdown",
   "metadata": {
    "name": "fill1"
   },
   "source": [
    "## Part 1: The Doomsday Algorithm\n",
    "\n",
    "The Doomsday algorithm, devised by mathematician J. H. Conway, computes the day of the week any given date fell on. The algorithm is designed to be simple enough to memorize and use for mental calculation.\n",
    "\n",
    "__Example.__ With the algorithm, we can compute that July 4, 1776 (the day the United States declared independence from Great Britain) was a Thursday.\n",
    "\n",
    "The algorithm is based on the fact that for any year, several dates always fall on the same day of the week, called the <em style=\"color:#F00\">doomsday</em> for the year. These dates include 4/4, 6/6, 8/8, 10/10, and 12/12.\n",
    "\n",
    "__Example.__ The doomsday for 2016 is Monday, so in 2016 the dates above all fell on Mondays. The doomsday for 2017 is Tuesday, so in 2017 the dates above will all fall on Tuesdays.\n",
    "\n",
    "The doomsday algorithm has three major steps:\n",
    "\n",
    "1. Compute the anchor day for the target century.\n",
    "2. Compute the doomsday for the target year based on the anchor day.\n",
    "3. Determine the day of week for the target date by counting the number of days to the nearest doomsday.\n",
    "\n",
    "Each step is explained in detail below."
   ]
  },
  {
   "cell_type": "markdown",
   "metadata": {
    "name": "ex1.1"
   },
   "source": [
    "### The Anchor Day\n",
    "\n",
    "The doomsday for the first year in a century is called the <em style=\"color:#F00\">anchor day</em> for that century. The anchor day is needed to compute the doomsday for any other year in that century. The anchor day for a century $c$ can be computed with the formula:\n",
    "$$\n",
    "a = \\bigl( 5 (c \\bmod 4) + 2 \\bigr) \\bmod 7\n",
    "$$\n",
    "The result $a$ corresponds to a day of the week, starting with $0$ for Sunday and ending with $6$ for Saturday.\n",
    "\n",
    "__Note.__ The modulo operation $(x \\bmod y)$ finds the remainder after dividing $x$ by $y$. For instance, $12 \\bmod 3 = 0$ since the remainder after dividing $12$ by $3$ is $0$. Similarly, $11 \\bmod 7 = 4$, since the remainder after dividing $11$ by $7$ is $4$.\n",
    "\n",
    "__Example.__ Suppose the target year is 1954, so the century is $c = 19$. Plugging this into the formula gives\n",
    "$$a = \\bigl( 5 (19 \\bmod 4) + 2 \\bigr) \\bmod 7 = \\bigl( 5(3) + 2 \\bigr) \\bmod 7 = 3.$$\n",
    "In other words, the anchor day for 1900-1999 is Wednesday, which is also the doomsday for 1900.\n",
    "\n",
    "__Exercise 1.1.__ Write a function that accepts a year as input and computes the anchor day for that year's century. The modulo operator `%` and functions in the `math` module may be useful. Document your function with a docstring and test your function for a few different years.  Do this in a new cell below this one."
   ]
  },
  {
   "cell_type": "code",
   "execution_count": 1,
   "metadata": {},
   "outputs": [
    {
     "data": {
      "text/plain": [
       "0"
      ]
     },
     "execution_count": 1,
     "metadata": {},
     "output_type": "execute_result"
    }
   ],
   "source": [
    "def computeAnchor(year):\n",
    "    \"\"\"accepts a year as input and computes anchor day for that year's century.\n",
    "    input: year\n",
    "    output: an integer between 0 and 6 inclusive indicating which day of week anchor day is for that century\"\"\"\n",
    "    cent = str(year)\n",
    "    cent = cent[0:2]\n",
    "    anchor = (5*(int(cent) % 4) + 2) % 7\n",
    "    return anchor\n",
    "computeAnchor(1954)\n",
    "computeAnchor(2406)\n",
    "computeAnchor(1743)\n"
   ]
  },
  {
   "cell_type": "markdown",
   "metadata": {},
   "source": [
    "The anchor day for the year 1954 is Wednesday, as the output for computeAnchor() for year 1954 is 3. \n",
    "The anchor day for the year 2406 is Tuesday, as the output is 2.\n",
    "The anchor day for the year 1743 is Sunday, as the output is 0.\n",
    "The function outputs an integer between 0 and 6 to make calculating doomsday easier for later on. 0 represents Sunday, 1 represents Monday, etc. "
   ]
  },
  {
   "cell_type": "markdown",
   "metadata": {
    "name": "gr1.1"
   },
   "source": [
    "<span style='color:red'>Grade:8/10</span>\n",
    "\n",
    "Notes: should not use str slicing "
   ]
  },
  {
   "cell_type": "markdown",
   "metadata": {
    "name": "ex1.2"
   },
   "source": [
    "### The Doomsday\n",
    "\n",
    "Once the anchor day is known, let $y$ be the last two digits of the target year. Then the doomsday for the target year can be computed with the formula:\n",
    "$$d = \\left(y + \\left\\lfloor\\frac{y}{4}\\right\\rfloor + a\\right) \\bmod 7$$\n",
    "The result $d$ corresponds to a day of the week.\n",
    "\n",
    "__Note.__ The floor operation $\\lfloor x \\rfloor$ rounds $x$ down to the nearest integer. For instance, $\\lfloor 3.1 \\rfloor = 3$ and $\\lfloor 3.8 \\rfloor = 3$.\n",
    "\n",
    "__Example.__ Again suppose the target year is 1954. Then the anchor day is $a = 3$, and $y = 54$, so the formula gives\n",
    "$$\n",
    "d = \\left(54 + \\left\\lfloor\\frac{54}{4}\\right\\rfloor + 3\\right) \\bmod 7 = (54 + 13 + 3) \\bmod 7 = 0.\n",
    "$$\n",
    "Thus the doomsday for 1954 is Sunday.\n",
    "\n",
    "__Exercise 1.2.__ Write a function that accepts a year as input and computes the doomsday for that year. Your function may need to call the function you wrote in exercise 1.1. Make sure to document and test your function."
   ]
  },
  {
   "cell_type": "code",
   "execution_count": 2,
   "metadata": {},
   "outputs": [
    {
     "data": {
      "text/plain": [
       "3"
      ]
     },
     "execution_count": 2,
     "metadata": {},
     "output_type": "execute_result"
    }
   ],
   "source": [
    "#leap year, january 1st, dec 31\n",
    "\n",
    "#using math.floor\n",
    "import math\n",
    "def computeDooms(year):\n",
    "    \"\"\"accepts a year as input and computes the doomsday for that year\n",
    "input: year\n",
    "output: an integer between 0 and 6 inclusive indicating which day of the week the doomsday is for that year\"\"\"\n",
    "    anchor = computeAnchor(year)\n",
    "    digits = str(year) #puts it into a string so we can iterate and parse the string\n",
    "    digits = digits[2:4] #returns the last 2 digits of the year\n",
    "    digits = int(digits)\n",
    "    dooms = (digits + math.floor(digits/4) + anchor) % 7\n",
    "    return dooms\n",
    "computeDooms(1670)\n",
    "computeDooms(1599)\n",
    "computeDooms(2001)"
   ]
  },
  {
   "cell_type": "markdown",
   "metadata": {},
   "source": [
    "The dooms day for the year 1670 is on a Friday, as the output for computeDooms is 5.\n",
    "The dooms day for the year 1599 is on a Sunday, as the output for computeDooms is 0.\n",
    "The dooms day for the year 2001 is on a Wednesday, as the output for computeDooms is 3.\n",
    "The function outputs an integer between 0 and 6 to make calculating the day of week any certain day is easier later on. 0 represents Sunday, 1 represents Monday, etc. "
   ]
  },
  {
   "cell_type": "markdown",
   "metadata": {
    "name": "gr1.2"
   },
   "source": [
    "<span style='color:red'>Grade:8/10</span>\n",
    "\n",
    "Notes: same as above "
   ]
  },
  {
   "cell_type": "markdown",
   "metadata": {
    "name": "ex1.3"
   },
   "source": [
    "### The Day of Week\n",
    "\n",
    "The final step in the Doomsday algorithm is to count the number of days between the target date and a nearby doomsday, modulo 7. This gives the day of the week.\n",
    "\n",
    "Every month has at least one doomsday:\n",
    "* (regular years) 1/10, 2/28\n",
    "* (leap years) 1/11, 2/29\n",
    "* 3/21, 4/4, 5/9, 6/6, 7/11, 8/8, 9/5, 10/10, 11/7, 12/12\n",
    "\n",
    "__Example.__ Suppose we want to find the day of the week for 7/21/1954. The doomsday for 1954 is Sunday, and a nearby doomsday is 7/11. There are 10 days in July between 7/11 and 7/21. Since $10 \\bmod 7 = 3$, the date 7/21/1954 falls 3 days after a Sunday, on a Wednesday.\n",
    "\n",
    "__Exercise 1.3.__ Write a function to determine the day of the week for a given day, month, and year. Be careful of leap years! Your function should return a string such as \"Thursday\" rather than a number. As usual, document and test your code."
   ]
  },
  {
   "cell_type": "code",
   "execution_count": 4,
   "metadata": {},
   "outputs": [
    {
     "data": {
      "text/plain": [
       "'Wednesday'"
      ]
     },
     "execution_count": 4,
     "metadata": {},
     "output_type": "execute_result"
    }
   ],
   "source": [
    "def dayOfWeek(date):\n",
    "    \"\"\"determines the day of the week for a given day, month, and year\n",
    "    input: a date, in the format of mm/dd/year or m/d/year. \n",
    "    month must be between 1 and 12 inclusive, day can be any digit. year must be a 4 character year\n",
    "    output: a string, representing day of week a certain date is\"\"\"\n",
    "    \n",
    "    #string manipulation, assigning variables\n",
    "    date = str(date)\n",
    "    date = date.split(\"/\")\n",
    "    month = date[0]\n",
    "    day = date[1]\n",
    "    year = date[2]\n",
    "    \n",
    "    #calculate dooms day for that year\n",
    "    dooms = computeDooms(year)\n",
    "    \n",
    "    #using a dictionary, using month as keys and matching it with its respective doomsday\n",
    "    doomsRegDict = {'1':10, '2':28, '3':21, '4':4, '5':9,'6':6,'7':11,'8':8,'9':5,'10':10,'11':7, '12':12}\n",
    "    doomsLeapDict = {'1':11, '2':29, '3':21, '4':4, '5':9,'6':6,'7':11,'8':8,'9':5,'10':10,'11':7, '12':12}\n",
    "    #is the year we're looking at a leap year?\n",
    "    \n",
    "    #leap year: not only does the year need to be divisible by 4, but the centurial also needs to be divisble by 400. \n",
    "    #to make this easier, i made hard cases for 1700,1800, and 1900.\n",
    "    if(int(year) % 4 == 0 and not (int(year) == 1700 or int(year) == 1800 or int(year) == 1900)): #leap year\n",
    "        daysToDooms = int(day) - doomsLeapDict[month]\n",
    "    else: #not leap year\n",
    "        daysToDooms = int(day) - doomsRegDict[month]\n",
    "        \n",
    "    #finding out the date of the week depending on # of days to doomsday\n",
    "    addingToDayOfWeek = daysToDooms % 7 \n",
    "   \n",
    "    #day of week is dependent on doomsday that we calculated earlier\n",
    "    dayOfWeek = dooms + addingToDayOfWeek\n",
    "    dayOfWeek = dayOfWeek %7 \n",
    "\n",
    "    \n",
    "    # we want to return a string depending on the day of the week\n",
    "    if(dayOfWeek == 0):\n",
    "        return \"Sunday\"\n",
    "    elif(dayOfWeek == 1):\n",
    "        return \"Monday\"\n",
    "    elif(dayOfWeek == 2):\n",
    "        return \"Tuesday\"\n",
    "    elif(dayOfWeek == 3):\n",
    "        return \"Wednesday\"\n",
    "    elif(dayOfWeek == 4):\n",
    "        return \"Thursday\"\n",
    "    elif(dayOfWeek == 5):\n",
    "        return \"Friday\"\n",
    "    elif(dayOfWeek == 6):\n",
    "        return \"Saturday\"\n",
    "    return \"None\"\n",
    "\n",
    "#testing function\n",
    "dayOfWeek(\"1/1/1932\")\n",
    "dayOfWeek(\"1/4/2010\")\n",
    "dayOfWeek(\"3/5/1800\") #testing leap year"
   ]
  },
  {
   "cell_type": "markdown",
   "metadata": {},
   "source": [
    "1/1/1932 is a Friday, 1/4/2010 is a Monday, and 3/5/1800 is a Wednesday. Typically, a year that is divisble by 4 is a leap year but 1700, 1800, and 1900 are not leap years. This was included and taken to account in the code."
   ]
  },
  {
   "cell_type": "markdown",
   "metadata": {
    "name": "gr1.3"
   },
   "source": [
    "<span style='color:red'>Grade:15/20</span>\n",
    "\n",
    "Notes: wrong leap year checking "
   ]
  },
  {
   "cell_type": "markdown",
   "metadata": {
    "name": "ex1.4"
   },
   "source": [
    "__Exercise 1.4.__ How many times did Friday the 13th occur in the years 1900-1999? Does this number seem to be similar to other centuries?"
   ]
  },
  {
   "cell_type": "code",
   "execution_count": 6,
   "metadata": {},
   "outputs": [
    {
     "data": {
      "text/plain": [
       "172"
      ]
     },
     "execution_count": 6,
     "metadata": {},
     "output_type": "execute_result"
    }
   ],
   "source": [
    "def fridayThe13th(year1,year2):\n",
    "    \"\"\"calculate the number of times Friday the 13th occur given the years\n",
    "    input: the beginning year and the end year for how many times Friday the 13th occurs\n",
    "    output: an integer, the number of how many times Friday the 13th occurs\"\"\"\n",
    "    \n",
    "    #/13/1900\n",
    "    #preparing variables\n",
    "    year1 = int(year1)\n",
    "    year2 = int(year2)\n",
    "    counter = 0\n",
    "    \n",
    "    #going through each year between the two years. so 1900 - 1999 would go from 1900, 1901, 1902, ... , 1999 INCLUSIVE\n",
    "    for year in list(range(year1,year2+1)):\n",
    "        \n",
    "        #considering each month! so, january to december\n",
    "        for month in list(range(1,13)):\n",
    "            \n",
    "            #concatenating month/day/year into a string, ready for using dayOfWeek(date)\n",
    "            dateString = str(month)+\"/13/\"+str(year) # i.e. 1/13/1910, 2/13/1910, 12/13/1945, etc.\n",
    "            \n",
    "            #if the day of the week is Friday, then we increment counter\n",
    "            if(dayOfWeek(dateString) == \"Friday\"):\n",
    "                counter += 1\n",
    "    return counter\n",
    "\n",
    "#testing variables\n",
    "fridayThe13th(1900,1999)\n",
    "fridayThe13th(1800,1899)\n",
    "fridayThe13th(2000,2099)"
   ]
  },
  {
   "cell_type": "markdown",
   "metadata": {},
   "source": [
    "Friday the 13th occured 172 times in the years 1900-1999, inclusive of those years. Calculating the number of times Friday the 13th occurs in the years 1800-1899 and 2000-2099, the number of Friday the 13th is the same throughout these centuries."
   ]
  },
  {
   "cell_type": "markdown",
   "metadata": {
    "name": "gr1.4"
   },
   "source": [
    "<span style='color:red'>Grade:10/10</span>\n",
    "\n",
    "Notes:"
   ]
  },
  {
   "cell_type": "markdown",
   "metadata": {
    "name": "ex1.5"
   },
   "source": [
    "__Exercise 1.5.__ How many times did Friday the 13th occur between the year 2000 and today?"
   ]
  },
  {
   "cell_type": "code",
   "execution_count": 7,
   "metadata": {},
   "outputs": [
    {
     "data": {
      "text/plain": [
       "31"
      ]
     },
     "execution_count": 7,
     "metadata": {},
     "output_type": "execute_result"
    }
   ],
   "source": [
    "fridayThe13th(2000,2017)"
   ]
  },
  {
   "cell_type": "markdown",
   "metadata": {},
   "source": [
    "Between the year 2000 and 2017, Friday the 13th has occured 31 times. Since it is the beginning of 2018 right now, no Friday the 13th has occured yet. Since my function fridayThe13th() is inclusive of years, I put 2000 and 2017 and my input to compute the number of times Friday the 13th has occured."
   ]
  },
  {
   "cell_type": "markdown",
   "metadata": {
    "name": "gr1.5"
   },
   "source": [
    "<span style='color:red'>Grade:10/10</span>\n",
    "\n",
    "Notes:"
   ]
  },
  {
   "cell_type": "markdown",
   "metadata": {
    "name": "ex2.1"
   },
   "source": [
    "## Part 2: 1978 Birthdays\n",
    "\n",
    "__Exercise 2.1.__ The file `birthdays.txt` contains the number of births in the United States for each day in 1978. Inspect the file to determine the format. Note that columns are separated by the tab character, which can be entered in Python as `\\t`. Write a function that uses iterators and list comprehensions with the string methods `split()` and `strip()` to  convert each line of data to the list format\n",
    "\n",
    "```Python\n",
    "[month, day, year, count]\n",
    "```\n",
    "The elements of this list should be integers, not strings. The function `read_birthdays` provided below will help you load the file."
   ]
  },
  {
   "cell_type": "code",
   "execution_count": 8,
   "metadata": {
    "name": "fill2"
   },
   "outputs": [
    {
     "data": {
      "text/plain": [
       "[[1, 1, 78, 7701],\n",
       " [1, 2, 78, 7527],\n",
       " [1, 3, 78, 8825],\n",
       " [1, 4, 78, 8859],\n",
       " [1, 5, 78, 9043],\n",
       " [1, 6, 78, 9208],\n",
       " [1, 7, 78, 8084],\n",
       " [1, 8, 78, 7611],\n",
       " [1, 9, 78, 9172],\n",
       " [1, 10, 78, 9089],\n",
       " [1, 11, 78, 9210],\n",
       " [1, 12, 78, 9259],\n",
       " [1, 13, 78, 9138],\n",
       " [1, 14, 78, 8299],\n",
       " [1, 15, 78, 7771],\n",
       " [1, 16, 78, 9458],\n",
       " [1, 17, 78, 9339],\n",
       " [1, 18, 78, 9120],\n",
       " [1, 19, 78, 9226],\n",
       " [1, 20, 78, 9305],\n",
       " [1, 21, 78, 7954],\n",
       " [1, 22, 78, 7560],\n",
       " [1, 23, 78, 9252],\n",
       " [1, 24, 78, 9416],\n",
       " [1, 25, 78, 9090],\n",
       " [1, 26, 78, 9387],\n",
       " [1, 27, 78, 8983],\n",
       " [1, 28, 78, 7946],\n",
       " [1, 29, 78, 7527],\n",
       " [1, 30, 78, 9184],\n",
       " [1, 31, 78, 9152],\n",
       " [2, 1, 78, 9159],\n",
       " [2, 2, 78, 9218],\n",
       " [2, 3, 78, 9167],\n",
       " [2, 4, 78, 8065],\n",
       " [2, 5, 78, 7804],\n",
       " [2, 6, 78, 9225],\n",
       " [2, 7, 78, 9328],\n",
       " [2, 8, 78, 9139],\n",
       " [2, 9, 78, 9247],\n",
       " [2, 10, 78, 9527],\n",
       " [2, 11, 78, 8144],\n",
       " [2, 12, 78, 7950],\n",
       " [2, 13, 78, 8966],\n",
       " [2, 14, 78, 9859],\n",
       " [2, 15, 78, 9285],\n",
       " [2, 16, 78, 9103],\n",
       " [2, 17, 78, 9238],\n",
       " [2, 18, 78, 8167],\n",
       " [2, 19, 78, 7695],\n",
       " [2, 20, 78, 9021],\n",
       " [2, 21, 78, 9252],\n",
       " [2, 22, 78, 9335],\n",
       " [2, 23, 78, 9268],\n",
       " [2, 24, 78, 9552],\n",
       " [2, 25, 78, 8313],\n",
       " [2, 26, 78, 7881],\n",
       " [2, 27, 78, 9262],\n",
       " [2, 28, 78, 9705],\n",
       " [3, 1, 78, 9132],\n",
       " [3, 2, 78, 9304],\n",
       " [3, 3, 78, 9431],\n",
       " [3, 4, 78, 8008],\n",
       " [3, 5, 78, 7791],\n",
       " [3, 6, 78, 9294],\n",
       " [3, 7, 78, 9573],\n",
       " [3, 8, 78, 9212],\n",
       " [3, 9, 78, 9218],\n",
       " [3, 10, 78, 9583],\n",
       " [3, 11, 78, 8144],\n",
       " [3, 12, 78, 7870],\n",
       " [3, 13, 78, 9022],\n",
       " [3, 14, 78, 9525],\n",
       " [3, 15, 78, 9284],\n",
       " [3, 16, 78, 9327],\n",
       " [3, 17, 78, 9480],\n",
       " [3, 18, 78, 7965],\n",
       " [3, 19, 78, 7729],\n",
       " [3, 20, 78, 9135],\n",
       " [3, 21, 78, 9663],\n",
       " [3, 22, 78, 9307],\n",
       " [3, 23, 78, 9159],\n",
       " [3, 24, 78, 9157],\n",
       " [3, 25, 78, 7874],\n",
       " [3, 26, 78, 7589],\n",
       " [3, 27, 78, 9100],\n",
       " [3, 28, 78, 9293],\n",
       " [3, 29, 78, 9195],\n",
       " [3, 30, 78, 8902],\n",
       " [3, 31, 78, 9318],\n",
       " [4, 1, 78, 8069],\n",
       " [4, 2, 78, 7691],\n",
       " [4, 3, 78, 9114],\n",
       " [4, 4, 78, 9439],\n",
       " [4, 5, 78, 8852],\n",
       " [4, 6, 78, 8969],\n",
       " [4, 7, 78, 9077],\n",
       " [4, 8, 78, 7890],\n",
       " [4, 9, 78, 7445],\n",
       " [4, 10, 78, 8870],\n",
       " [4, 11, 78, 9023],\n",
       " [4, 12, 78, 8606],\n",
       " [4, 13, 78, 8724],\n",
       " [4, 14, 78, 9012],\n",
       " [4, 15, 78, 7527],\n",
       " [4, 16, 78, 7193],\n",
       " [4, 17, 78, 8702],\n",
       " [4, 18, 78, 9205],\n",
       " [4, 19, 78, 8720],\n",
       " [4, 20, 78, 8582],\n",
       " [4, 21, 78, 8892],\n",
       " [4, 22, 78, 7787],\n",
       " [4, 23, 78, 7304],\n",
       " [4, 24, 78, 9017],\n",
       " [4, 25, 78, 9077],\n",
       " [4, 26, 78, 9019],\n",
       " [4, 27, 78, 8839],\n",
       " [4, 28, 78, 9047],\n",
       " [4, 29, 78, 7750],\n",
       " [4, 30, 78, 7135],\n",
       " [5, 1, 78, 8900],\n",
       " [5, 2, 78, 9422],\n",
       " [5, 3, 78, 9051],\n",
       " [5, 4, 78, 8672],\n",
       " [5, 5, 78, 9101],\n",
       " [5, 6, 78, 7718],\n",
       " [5, 7, 78, 7388],\n",
       " [5, 8, 78, 8987],\n",
       " [5, 9, 78, 9307],\n",
       " [5, 10, 78, 9273],\n",
       " [5, 11, 78, 8903],\n",
       " [5, 12, 78, 8975],\n",
       " [5, 13, 78, 7762],\n",
       " [5, 14, 78, 7382],\n",
       " [5, 15, 78, 9195],\n",
       " [5, 16, 78, 9200],\n",
       " [5, 17, 78, 8913],\n",
       " [5, 18, 78, 9044],\n",
       " [5, 19, 78, 9000],\n",
       " [5, 20, 78, 8064],\n",
       " [5, 21, 78, 7570],\n",
       " [5, 22, 78, 9089],\n",
       " [5, 23, 78, 9210],\n",
       " [5, 24, 78, 9196],\n",
       " [5, 25, 78, 9180],\n",
       " [5, 26, 78, 9514],\n",
       " [5, 27, 78, 8005],\n",
       " [5, 28, 78, 7781],\n",
       " [5, 29, 78, 7780],\n",
       " [5, 30, 78, 9630],\n",
       " [5, 31, 78, 9600],\n",
       " [6, 1, 78, 9435],\n",
       " [6, 2, 78, 9303],\n",
       " [6, 3, 78, 7971],\n",
       " [6, 4, 78, 7399],\n",
       " [6, 5, 78, 9127],\n",
       " [6, 6, 78, 9606],\n",
       " [6, 7, 78, 9328],\n",
       " [6, 8, 78, 9075],\n",
       " [6, 9, 78, 9362],\n",
       " [6, 10, 78, 8040],\n",
       " [6, 11, 78, 7581],\n",
       " [6, 12, 78, 9201],\n",
       " [6, 13, 78, 9264],\n",
       " [6, 14, 78, 9216],\n",
       " [6, 15, 78, 9175],\n",
       " [6, 16, 78, 9350],\n",
       " [6, 17, 78, 8233],\n",
       " [6, 18, 78, 7777],\n",
       " [6, 19, 78, 9543],\n",
       " [6, 20, 78, 9672],\n",
       " [6, 21, 78, 9266],\n",
       " [6, 22, 78, 9405],\n",
       " [6, 23, 78, 9598],\n",
       " [6, 24, 78, 8122],\n",
       " [6, 25, 78, 8091],\n",
       " [6, 26, 78, 9348],\n",
       " [6, 27, 78, 9857],\n",
       " [6, 28, 78, 9701],\n",
       " [6, 29, 78, 9630],\n",
       " [6, 30, 78, 10080],\n",
       " [7, 1, 78, 8209],\n",
       " [7, 2, 78, 7976],\n",
       " [7, 3, 78, 9284],\n",
       " [7, 4, 78, 8433],\n",
       " [7, 5, 78, 9675],\n",
       " [7, 6, 78, 10184],\n",
       " [7, 7, 78, 10241],\n",
       " [7, 8, 78, 8773],\n",
       " [7, 9, 78, 8102],\n",
       " [7, 10, 78, 9877],\n",
       " [7, 11, 78, 9852],\n",
       " [7, 12, 78, 9705],\n",
       " [7, 13, 78, 9984],\n",
       " [7, 14, 78, 10438],\n",
       " [7, 15, 78, 8859],\n",
       " [7, 16, 78, 8416],\n",
       " [7, 17, 78, 10026],\n",
       " [7, 18, 78, 10357],\n",
       " [7, 19, 78, 10015],\n",
       " [7, 20, 78, 10386],\n",
       " [7, 21, 78, 10332],\n",
       " [7, 22, 78, 9062],\n",
       " [7, 23, 78, 8563],\n",
       " [7, 24, 78, 9960],\n",
       " [7, 25, 78, 10349],\n",
       " [7, 26, 78, 10091],\n",
       " [7, 27, 78, 10192],\n",
       " [7, 28, 78, 10307],\n",
       " [7, 29, 78, 8677],\n",
       " [7, 30, 78, 8486],\n",
       " [7, 31, 78, 9890],\n",
       " [8, 1, 78, 10145],\n",
       " [8, 2, 78, 9824],\n",
       " [8, 3, 78, 10128],\n",
       " [8, 4, 78, 10051],\n",
       " [8, 5, 78, 8738],\n",
       " [8, 6, 78, 8442],\n",
       " [8, 7, 78, 10206],\n",
       " [8, 8, 78, 10442],\n",
       " [8, 9, 78, 10142],\n",
       " [8, 10, 78, 10284],\n",
       " [8, 11, 78, 10162],\n",
       " [8, 12, 78, 8951],\n",
       " [8, 13, 78, 8532],\n",
       " [8, 14, 78, 10127],\n",
       " [8, 15, 78, 10502],\n",
       " [8, 16, 78, 10053],\n",
       " [8, 17, 78, 10377],\n",
       " [8, 18, 78, 10355],\n",
       " [8, 19, 78, 8904],\n",
       " [8, 20, 78, 8477],\n",
       " [8, 21, 78, 9967],\n",
       " [8, 22, 78, 10229],\n",
       " [8, 23, 78, 9900],\n",
       " [8, 24, 78, 10152],\n",
       " [8, 25, 78, 10173],\n",
       " [8, 26, 78, 8782],\n",
       " [8, 27, 78, 8453],\n",
       " [8, 28, 78, 9998],\n",
       " [8, 29, 78, 10387],\n",
       " [8, 30, 78, 10063],\n",
       " [8, 31, 78, 9849],\n",
       " [9, 1, 78, 10114],\n",
       " [9, 2, 78, 8580],\n",
       " [9, 3, 78, 8355],\n",
       " [9, 4, 78, 8481],\n",
       " [9, 5, 78, 10023],\n",
       " [9, 6, 78, 10703],\n",
       " [9, 7, 78, 10292],\n",
       " [9, 8, 78, 10371],\n",
       " [9, 9, 78, 9023],\n",
       " [9, 10, 78, 8630],\n",
       " [9, 11, 78, 10154],\n",
       " [9, 12, 78, 10425],\n",
       " [9, 13, 78, 10149],\n",
       " [9, 14, 78, 10265],\n",
       " [9, 15, 78, 10265],\n",
       " [9, 16, 78, 9170],\n",
       " [9, 17, 78, 8711],\n",
       " [9, 18, 78, 10304],\n",
       " [9, 19, 78, 10711],\n",
       " [9, 20, 78, 10488],\n",
       " [9, 21, 78, 10499],\n",
       " [9, 22, 78, 10349],\n",
       " [9, 23, 78, 8735],\n",
       " [9, 24, 78, 8647],\n",
       " [9, 25, 78, 10414],\n",
       " [9, 26, 78, 10498],\n",
       " [9, 27, 78, 10344],\n",
       " [9, 28, 78, 10175],\n",
       " [9, 29, 78, 10368],\n",
       " [9, 30, 78, 8648],\n",
       " [10, 1, 78, 8686],\n",
       " [10, 2, 78, 9927],\n",
       " [10, 3, 78, 10378],\n",
       " [10, 4, 78, 9928],\n",
       " [10, 5, 78, 9949],\n",
       " [10, 6, 78, 10052],\n",
       " [10, 7, 78, 8605],\n",
       " [10, 8, 78, 8377],\n",
       " [10, 9, 78, 9765],\n",
       " [10, 10, 78, 10351],\n",
       " [10, 11, 78, 9873],\n",
       " [10, 12, 78, 9824],\n",
       " [10, 13, 78, 9755],\n",
       " [10, 14, 78, 8554],\n",
       " [10, 15, 78, 7873],\n",
       " [10, 16, 78, 9531],\n",
       " [10, 17, 78, 9938],\n",
       " [10, 18, 78, 9388],\n",
       " [10, 19, 78, 9502],\n",
       " [10, 20, 78, 9625],\n",
       " [10, 21, 78, 8411],\n",
       " [10, 22, 78, 7936],\n",
       " [10, 23, 78, 9425],\n",
       " [10, 24, 78, 9576],\n",
       " [10, 25, 78, 9328],\n",
       " [10, 26, 78, 9501],\n",
       " [10, 27, 78, 9537],\n",
       " [10, 28, 78, 8415],\n",
       " [10, 29, 78, 8155],\n",
       " [10, 30, 78, 9457],\n",
       " [10, 31, 78, 9333],\n",
       " [11, 1, 78, 9321],\n",
       " [11, 2, 78, 9245],\n",
       " [11, 3, 78, 9774],\n",
       " [11, 4, 78, 8246],\n",
       " [11, 5, 78, 8011],\n",
       " [11, 6, 78, 9507],\n",
       " [11, 7, 78, 9769],\n",
       " [11, 8, 78, 9501],\n",
       " [11, 9, 78, 9609],\n",
       " [11, 10, 78, 9652],\n",
       " [11, 11, 78, 8352],\n",
       " [11, 12, 78, 7967],\n",
       " [11, 13, 78, 9606],\n",
       " [11, 14, 78, 10014],\n",
       " [11, 15, 78, 9536],\n",
       " [11, 16, 78, 9568],\n",
       " [11, 17, 78, 9835],\n",
       " [11, 18, 78, 8432],\n",
       " [11, 19, 78, 7868],\n",
       " [11, 20, 78, 9592],\n",
       " [11, 21, 78, 9950],\n",
       " [11, 22, 78, 9548],\n",
       " [11, 23, 78, 7915],\n",
       " [11, 24, 78, 9037],\n",
       " [11, 25, 78, 8275],\n",
       " [11, 26, 78, 8068],\n",
       " [11, 27, 78, 9825],\n",
       " [11, 28, 78, 9814],\n",
       " [11, 29, 78, 9438],\n",
       " [11, 30, 78, 9396],\n",
       " [12, 1, 78, 9592],\n",
       " [12, 2, 78, 8528],\n",
       " [12, 3, 78, 8196],\n",
       " [12, 4, 78, 9767],\n",
       " [12, 5, 78, 9881],\n",
       " [12, 6, 78, 9402],\n",
       " [12, 7, 78, 9480],\n",
       " [12, 8, 78, 9398],\n",
       " [12, 9, 78, 8335],\n",
       " [12, 10, 78, 8093],\n",
       " [12, 11, 78, 9686],\n",
       " [12, 12, 78, 10063],\n",
       " [12, 13, 78, 9509],\n",
       " [12, 14, 78, 9524],\n",
       " [12, 15, 78, 9951],\n",
       " [12, 16, 78, 8507],\n",
       " [12, 17, 78, 8172],\n",
       " [12, 18, 78, 10196],\n",
       " [12, 19, 78, 10605],\n",
       " [12, 20, 78, 9998],\n",
       " [12, 21, 78, 9398],\n",
       " [12, 22, 78, 9008],\n",
       " [12, 23, 78, 7939],\n",
       " [12, 24, 78, 7964],\n",
       " [12, 25, 78, 7846],\n",
       " [12, 26, 78, 8902],\n",
       " [12, 27, 78, 9907],\n",
       " [12, 28, 78, 10177],\n",
       " [12, 29, 78, 10401],\n",
       " [12, 30, 78, 8474],\n",
       " [12, 31, 78, 8028]]"
      ]
     },
     "execution_count": 8,
     "metadata": {},
     "output_type": "execute_result"
    }
   ],
   "source": [
    "import re\n",
    "def read_birthdays(file_path):\n",
    "    \"\"\"Read the contents of the birthdays file into a string.\n",
    "    \n",
    "    Arguments:\n",
    "        file_path (string): The path to the birthdays file.\n",
    "        \n",
    "    Returns:\n",
    "        string: The contents of the birthdays file.\n",
    "    \"\"\"\n",
    "\n",
    "    #reading each lines\n",
    "    with open(file_path) as file:\n",
    "        line = file.readlines()\n",
    "        \n",
    "    #LINES BELOW IS PARSING THROUGH THE FILE, MAKING IT INTO A LIST OF [month, day, year, count]\n",
    "    \n",
    "    #getting rid of newline\n",
    "    line = [x.strip() for x in line] \n",
    "    line = [x for x in line if x != '']\n",
    "    #random gibberish at the beginning of document is rid of\n",
    "    line = line[4:]\n",
    "    result = []\n",
    "    \n",
    "    #parsing through each line, getting rid of / and \\t which separates the date and the number of births on that day\n",
    "    #adding to result list\n",
    "    result = []\n",
    "    for x in line:\n",
    "        line = re.split(r'[/,\\t]',x)\n",
    "        lineInt = [int(x) for x in line]\n",
    "        result.append(lineInt)\n",
    "\n",
    "    return result\n",
    "    \n",
    "#reading \"birthdays.txt\"\n",
    "read_birthdays(\"birthdays.txt\")"
   ]
  },
  {
   "cell_type": "markdown",
   "metadata": {},
   "source": [
    "read_birthdays(\"birthdays.txt\") reads in \"birthdays.txt\", parsing through each line and putting the month, day, year, and number of birthday of that day into a list."
   ]
  },
  {
   "cell_type": "markdown",
   "metadata": {
    "name": "gr2.1"
   },
   "source": [
    "<span style='color:red'>Grade:10/10</span>\n",
    "\n",
    "Notes:"
   ]
  },
  {
   "cell_type": "markdown",
   "metadata": {},
   "source": [
    "__Exercise 2.2.__ Which month had the most births in 1978? Which day of the week had the most births? Which day of the week had the fewest? What conclusions can you draw? You may find the `Counter` class in the `collections` module useful.\n"
   ]
  },
  {
   "cell_type": "code",
   "execution_count": 9,
   "metadata": {
    "scrolled": false
   },
   "outputs": [
    {
     "name": "stdout",
     "output_type": "stream",
     "text": [
      "{1: 270695, 2: 249875, 3: 276584, 4: 254577, 5: 270812, 6: 270756, 7: 294701, 8: 302795, 9: 293891, 10: 288955, 11: 274671, 12: 284927}\n",
      "{'Friday': 500541, 'Tuesday': 504858, 'Saturday': 432085, 'Monday': 487309, 'Wednesday': 493897, 'Sunday': 421400, 'Thursday': 493149}\n"
     ]
    }
   ],
   "source": [
    "result = read_birthdays(\"../data/birthdays.txt\")\n",
    "def monthBirth(result):\n",
    "    \"\"\"displays the number of births for each month given the list [month, day, year, count]\n",
    "    input: list in the format of [month, day, year, count]\n",
    "    output: a dictionary, in the format of month: cumulated number of births\"\"\"\n",
    "    \n",
    "    dict = {}\n",
    "    #going through the list to add all the births for dict\n",
    "    for i in result:\n",
    "        #if the month is already in dictionary, add the value to its respective month\n",
    "        if i[0] in dict:\n",
    "            new = dict[i[0]] + i[3]\n",
    "            \n",
    "        #if not, make a new key with the number of births for that month\n",
    "        else:\n",
    "            new = i[3]\n",
    "        dict[i[0]] = new\n",
    "    return dict\n",
    "\n",
    "#test\n",
    "print(monthBirth(result))\n",
    "\n",
    "\n",
    "def dayBirth(result):\n",
    "    \"\"\"displays the number of births for each day of the week given the list [month, day, year, count]\n",
    "    input: list in the format of [month, day, year, count]\n",
    "    output: a dictionary, in the format of day of week: cumulated number of births\"\"\"\n",
    "    dict2 = {}\n",
    "    \n",
    "    #going through the list to add all the births for dict2\n",
    "    for i in result:\n",
    "        #concatenating month/day/year into a string, ready for using dayOfWeek(date)\n",
    "        dateString = str(i[0])+\"/\"+ str(i[1])+\"/19\"+str(i[2])\n",
    "        dayOfWee = str(dayOfWeek(dateString))\n",
    "        \n",
    "        #if the day of week is already in dictionary, add the value to its respective day\n",
    "        if dayOfWee in dict2:\n",
    "            new = dict2[dayOfWee] + i[3]\n",
    "        #if not, make a new key with the number of births for that day of week\n",
    "        else:\n",
    "            new = i[3]\n",
    "        dict2[dayOfWee] = new\n",
    "    return dict2\n",
    "\n",
    "#test\n",
    "print(dayBirth(result))"
   ]
  },
  {
   "cell_type": "markdown",
   "metadata": {},
   "source": [
    "The month that had the most birth in 1978 was August, with 302795 births. The day of the week with the most births in 1978 was Tuesday, with 504858 births. The day of the week with the fewest births in 1978 was Sunday, with 421400 births. I put the "
   ]
  },
  {
   "cell_type": "markdown",
   "metadata": {
    "name": "gr2.2"
   },
   "source": [
    "<span style='color:red'>Grade:20/20</span>\n",
    "\n",
    "Notes:"
   ]
  },
  {
   "cell_type": "markdown",
   "metadata": {},
   "source": [
    "__Exercise 2.3.__ What would be an effective way to present the information in exercise 2.2? You don't need to write any code for this exercise, just discuss what you would do."
   ]
  },
  {
   "cell_type": "markdown",
   "metadata": {
    "collapsed": true
   },
   "source": [
    "What I did in 2.2 is I created a dictionary, with what I want as independent variable as the key and the number of births as the dependent variable. For example, to find the month with most births, the keys in the dictionary are months and the valuse are number of births with its respective month. I think this is an effective way to display the information because it organizes the month and the number of births neatly, kind of in a table. There may be other data structures to explore as well because dictionaries are typically not sorted, so it is displayed chronologically on how items are added. I looked at the values of the keys in order to see which key had the most births, which might be not as convenient as looking at the first element or just spitting out a string of the key with the most birth. If we really do want to do this, there are ways to get this done by sorting the values, but there are just no built-in functions. A hash data structure can also be used, I believe! I think a list or a tuple would not be as convenient because we want a value attached to an item. This might be okay if we use a list and had the indices as months, but this wouldn't be as clear. Additionally, it would be hard to use and not as clear with the days of the week since we are using strings."
   ]
  },
  {
   "cell_type": "markdown",
   "metadata": {
    "name": "gr2.3"
   },
   "source": [
    "<span style='color:red'>Grade:10/10</span>\n",
    "\n",
    "Notes:"
   ]
  }
 ],
 "metadata": {
  "anaconda-cloud": {},
  "kernelspec": {
   "display_name": "Python 3",
   "language": "python",
   "name": "python3"
  },
  "language_info": {
   "codemirror_mode": {
    "name": "ipython",
    "version": 3
   },
   "file_extension": ".py",
   "mimetype": "text/x-python",
   "name": "python",
   "nbconvert_exporter": "python",
   "pygments_lexer": "ipython3",
   "version": "3.6.7"
  }
 },
 "nbformat": 4,
 "nbformat_minor": 2
}
